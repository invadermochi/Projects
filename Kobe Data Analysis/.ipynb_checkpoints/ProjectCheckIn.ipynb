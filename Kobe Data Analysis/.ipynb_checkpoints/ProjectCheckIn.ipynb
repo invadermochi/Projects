{
 "cells": [
  {
   "cell_type": "markdown",
   "metadata": {},
   "source": [
    "# COGS 108 Final Project Check-In"
   ]
  },
  {
   "cell_type": "markdown",
   "metadata": {},
   "source": [
    "# Names\n",
    "\n",
    "- Diraksa Munajat\n",
    "- Sandeep Sagoo\n",
    "- Matthew Ho\n",
    "- Rahul Shenoy\n"
   ]
  },
  {
   "cell_type": "markdown",
   "metadata": {},
   "source": [
    "# Group Members IDs\n",
    "\n",
    "- A91093097\n",
    "- A12386089\n",
    "- A14108897\n",
    "- A13629342\n"
   ]
  },
  {
   "cell_type": "markdown",
   "metadata": {},
   "source": [
    "# Accomplishments"
   ]
  },
  {
   "cell_type": "markdown",
   "metadata": {},
   "source": [
    "Based off the feedback we received on our project proposal, we decided to change our research question. Our new research question focuses on Kobe and his career with the Lakers we now have three new questions covered in the Struggles section. For the new question we have accomplished the following: \n",
    "\n",
    "- We have secured a dataset that gives us Kobe’s shot selections, we have also secured a dataset with the Lakers roster and stats.\n",
    "- We have cleaned the data and set correlations\n",
    "- Established a new question!\n",
    "- Explored ethical implications of our question \n",
    "- We found a dataset and cleaned it up \n",
    "- Started working on data visualizations to understand the data better"
   ]
  },
  {
   "cell_type": "markdown",
   "metadata": {},
   "source": [
    "# Going Well"
   ]
  },
  {
   "cell_type": "markdown",
   "metadata": {},
   "source": [
    "Team members are working well together, we have schedules figured out and meeting times set up. So far our new dataset is easier to work with and is a topic we enjoy a lot more. Making our data visualizations has been straight forward. We are using the assignments as a guide to plot our data efficiently. "
   ]
  },
  {
   "cell_type": "markdown",
   "metadata": {},
   "source": [
    "# Struggles"
   ]
  },
  {
   "cell_type": "markdown",
   "metadata": {},
   "source": [
    "Although we were interested in our previous question of the effects of social media activity on shopping and traveling trends, we could not find adequate datasets to answer it. There was no publically available data for specific item sales and tourism/plane sales. Also, there were privacy and ethics concerns that we could not solve. \n",
    "\n",
    "These reasons led us to focus on a new question regarding Kobe Bryant's basketball statistics. Our hypothesis claims that from the time Kobe was drafted onto the Lakers, the team won more games than without him. Our new questions explores the relationships between Kobe's performance and the Laker's success in winning games. Specifically, they are:\n",
    "1. On average, how many more games does the Lakers win with Kobe on the team than without\n",
    "2. How does Kobe's score change the percent chance the Lakers win \n",
    "3. Which starting lineup was Kobe Bryant the most successful (we define new lineups as major changes where 2 or more players are swapped out.  We believe defining a new lineup if only 1 player is changed would yield too much data as players are swapped out multiple times in a single game, and we are analyzing thousands of games)\n",
    "4. Which area did Kobe Bryant most frequencly shoot from?<br/>\n",
    "    4a. How does this shot area differ from his first season to his last season\n",
    "5. Which area did Kobe Bryant score most from?\n",
    "\n",
    "While the first two questions attempt to answer our hypothesis, we became more interested in Kobe's career as we explored the data. Questions 3-5 explore his personal accomplishments in games. \n",
    "\n",
    "Since we changed our question, we have concerns about staying on schedule and answering our question fully. To help us finish our project, we are schedulely more frequent meetings (two instead of one per week) and concretely distrubuting work on who should work on what questions. "
   ]
  },
  {
   "cell_type": "markdown",
   "metadata": {},
   "source": [
    "# Plan Forward"
   ]
  },
  {
   "cell_type": "markdown",
   "metadata": {},
   "source": [
    "Since we pivoted our topic we have a lot of work going forward. We need to go back and make sure our sections from the research proposal are addressed fully. We would like to finish wrangling data and finish our data visualizations by week 8, so we can work on data visualization and finish up the data analysis by week 9. We can then spend the last week working on the conclusions along with any additional editing and discussions."
   ]
  }
 ],
 "metadata": {
  "kernelspec": {
   "display_name": "Python 3",
   "language": "python",
   "name": "python3"
  },
  "language_info": {
   "codemirror_mode": {
    "name": "ipython",
    "version": 3
   },
   "file_extension": ".py",
   "mimetype": "text/x-python",
   "name": "python",
   "nbconvert_exporter": "python",
   "pygments_lexer": "ipython3",
   "version": "3.6.7"
  }
 },
 "nbformat": 4,
 "nbformat_minor": 2
}
