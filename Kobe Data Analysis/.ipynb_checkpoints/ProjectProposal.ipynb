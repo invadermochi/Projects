{
 "cells": [
  {
   "cell_type": "markdown",
   "metadata": {},
   "source": [
    "# COGS 108 - Final Project Proposal"
   ]
  },
  {
   "cell_type": "markdown",
   "metadata": {},
   "source": [
    "# Names\n",
    "\n",
    "- Matthew Ho\n",
    "- Diraksa Munajat\n",
    "- Sandeep Singh\n",
    "- Rahul Shenoy\n"
   ]
  },
  {
   "cell_type": "markdown",
   "metadata": {},
   "source": [
    "# Group Members IDs\n",
    "\n",
    "- A14108897\n",
    "- A91093097\n",
    "- A12386089\n",
    "- A13629342\n"
   ]
  },
  {
   "cell_type": "markdown",
   "metadata": {},
   "source": [
    "# Research Question"
   ]
  },
  {
   "cell_type": "markdown",
   "metadata": {},
   "source": [
    "1. What are some shopping trends in the past 10 years?\n",
    "2. What are some traveling trends in the past 10 years?\n",
    "3. How have holidays/special events such as Black Friday affect shopping/travel trends in the past 10 years?\n",
    "4. How do people vary in SES depending on trending travel destinations?\n",
    "5. How does social media affect shopping/travel trends?\n"
   ]
  },
  {
   "cell_type": "markdown",
   "metadata": {},
   "source": [
    "## Background and Prior Work"
   ]
  },
  {
   "cell_type": "markdown",
   "metadata": {},
   "source": [
    "**Datasets can be from:**\n",
    "\n",
    "\n",
    "UCI Machine Learning Repository:\n",
    "https://archive.ics.uci.edu/ml/datasets/Online+Shoppers+Purchasing+Intention+Dataset \n",
    "\n",
    "Kaggle:\n",
    "https://www.kaggle.com/roshansharma/online-shopper-s-intention\n",
    "\n",
    "\n",
    "Data.gov:\n",
    "https://catalog.data.gov/dataset?tags=travel \n",
    "\n",
    "\n",
    "Dauntless Jaunter:\n",
    "https://djaunter.com/data/ \n",
    "\n",
    "\n",
    "Bigml:\n",
    "https://bigml.com/gallery/datasets/travel_and_leisure\n",
    "\n",
    "We have researched various data sets to try and see what we can come up with. Our dataset pertains to the questions that we are trying to solve.\n"
   ]
  },
  {
   "cell_type": "markdown",
   "metadata": {},
   "source": [
    "# Hypothesis\n"
   ]
  },
  {
   "cell_type": "markdown",
   "metadata": {},
   "source": [
    "Our research will attempt to analyze how trends in shopping and travel can be changed through time, holidays, and social media influence. We purport that cultural differences throughout time, holidays and special events, and increased social media activity will increase certain trends. "
   ]
  },
  {
   "cell_type": "markdown",
   "metadata": {},
   "source": [
    "# Data"
   ]
  },
  {
   "cell_type": "markdown",
   "metadata": {},
   "source": [
    "In an ideal case, we would have names for several different shopping brands up to 10 or 15 to count the frequency of these buzzwords mentioned in social media platforms. We would have 10,000 rows of observations. The other dataset would be how often the top products were purchased, this would have different products as variables with around 10,000 observations of people and how much they bought of that product. We would use some form of web scraper to collect data from Twitter. We would store this data in a table and then use some form of graphs or plots to organise the data effectively."
   ]
  },
  {
   "cell_type": "markdown",
   "metadata": {},
   "source": [
    "# Ethics & Privacy"
   ]
  },
  {
   "cell_type": "markdown",
   "metadata": {},
   "source": [
    "1. Need to consider who will have access to our data (this will deal with beneficence part of the Belmont report)\n",
    "2. Upon release our data will have the potential to identify certain groups and their spending behaviors, which in turn can give us the ability to recognize spending habits of certain groups of people. We will not release the names. \n",
    "3. Need to consider people's privacy and hide revealing information like names, addresses etc. (especially when dealing with travel departure/destinations, twitter names)\n",
    "4. Need to consider how companies will use our data when we analyze how social media will affect sales (will they purposely abuse this information?)\n"
   ]
  },
  {
   "cell_type": "markdown",
   "metadata": {},
   "source": [
    "# Team Expectations "
   ]
  },
  {
   "cell_type": "markdown",
   "metadata": {},
   "source": [
    "* Team will have one weekly meeting.\n",
    "* The work will be distributed evenly\n",
    "* If no one is contributing their equal share, we bring it up to each other and figure out what’s going on.\n",
    "* We will communicate clearly with transparency\n",
    "* Make sure that, if we need help, we aren’t afraid to ask each other or ask the TA/Professor.\n",
    "* Manageable workload and expectations.\n",
    "* Arrive on time for meetings, be ready to work\n",
    "* Behave in a professional and respectful manner\n",
    "* Enjoy The project struggle.\n"
   ]
  },
  {
   "cell_type": "markdown",
   "metadata": {},
   "source": [
    "# Project Timeline Proposal"
   ]
  },
  {
   "cell_type": "markdown",
   "metadata": {},
   "source": [
    "| Meeting Date  | Meeting Time| Completed Before Meeting  | Discuss at Meeting |\n",
    "|---|---|---|---|\n",
    "| 1/20  |  1 PM | Read & Think about COGS 108 expectations; brainstorm topics/questions  | Determine best form of communication; Discuss and decide on final project topic; discuss hypothesis; begin background research | \n",
    "| 1/26  |  10 AM |  Do background research on topic | Discuss ideal dataset(s) and ethics; draft project proposal | \n",
    "| 2/1  | 10 AM  | Edit, finalize, and submit proposal; Search for datasets  | Discuss Wrangling and possible analytical approaches; Assign group members to lead each specific part   |\n",
    "| 2/14  | 6 PM  | Import & Wrangle Data (Ant Man); EDA (Hulk) | Review/Edit wrangling/EDA; Discuss Analysis Plan   |\n",
    "| 2/23  | 12 PM  | Finalize wrangling/EDA; Begin Analysis (Iron Man; Thor) | Discuss/edit Analysis; Complete project check-in |\n",
    "| 3/13  | 12 PM  | Complete analysis; Draft results/conclusion/discussion (Wasp)| Discuss/edit full project |\n",
    "| 3/19  | Before 11:59 PM  | NA | Turn in Final Project & Group Project Surveys |"
   ]
  }
 ],
 "metadata": {
  "kernelspec": {
   "display_name": "Python 3",
   "language": "python",
   "name": "python3"
  },
  "language_info": {
   "codemirror_mode": {
    "name": "ipython",
    "version": 3
   },
   "file_extension": ".py",
   "mimetype": "text/x-python",
   "name": "python",
   "nbconvert_exporter": "python",
   "pygments_lexer": "ipython3",
   "version": "3.7.4"
  }
 },
 "nbformat": 4,
 "nbformat_minor": 4
}
